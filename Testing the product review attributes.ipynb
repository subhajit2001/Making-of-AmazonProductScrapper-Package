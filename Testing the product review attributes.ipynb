{
 "cells": [
  {
   "cell_type": "markdown",
   "id": "eb29a9ed",
   "metadata": {},
   "source": [
    "<h3>Importing the required libraries</h3>"
   ]
  },
  {
   "cell_type": "code",
   "execution_count": 1,
   "id": "360d4bfb",
   "metadata": {},
   "outputs": [],
   "source": [
    "import requests\n",
    "from bs4 import BeautifulSoup\n",
    "import pandas as pd\n",
    "import time\n",
    "import math"
   ]
  },
  {
   "cell_type": "markdown",
   "id": "221e189e",
   "metadata": {},
   "source": [
    "<h3>Making a get_soup() function for extracting the soup</h3>"
   ]
  },
  {
   "cell_type": "code",
   "execution_count": 2,
   "id": "d1de5fdb",
   "metadata": {},
   "outputs": [],
   "source": [
    "def get_soup(url):\n",
    "    proxylist = ['46.4.96.137:1080', '198.199.86.148:47638', '31.7.232.178:1080', '51.81.83.181:59427', '5.182.39.88:9988', '13.250.64.147:48540', '69.163.163.59:37884', '159.203.61.169:1080', '103.252.196.163:1081', '47.240.226.173:65432', '104.238.111.194:49228', '88.80.119.7:1080', '91.198.137.31:3550', '47.119.141.40:6111', '172.245.92.238:9300', '47.112.156.174:6111', '43.132.245.147:1080', '123.18.206.50:1080', '130.185.77.48:31870', '51.79.243.234:54892', '161.202.101.222:1080', '82.146.63.105:9050', '91.198.137.31:3598', '159.75.131.107:10808', '93.89.239.90:8080', '90.188.255.99:9100', '69.163.166.113:37884', '72.206.181.105:64935', '95.213.154.54:31337', '69.163.163.180:24260', '103.249.100.40:9050', '104.248.48.211:30588', '178.62.79.115:21945', '174.77.111.196:4145', '178.150.246.144:1088', '112.78.141.76:1080', '184.178.172.14:4145', '167.86.95.73:1088', '104.255.170.66:62625', '143.110.238.119:999', '35.223.101.235:9050', '5.8.41.182:10086', '123.129.219.228:1080', '154.86.9.154:1080', '104.255.170.64:58890', '31.25.243.40:9507', '47.106.232.112:6111', '147.135.114.12:3080', '103.139.163.168:1080', '13.250.96.83:48540', '167.86.92.43:8085', '104.255.170.65:57848', '119.23.230.154:6111', '5.182.39.88:9608', '103.73.74.179:1080', '47.119.128.33:6111', '39.108.100.34:1080', '47.242.202.187:25503', '162.144.64.112:38067', '207.148.74.151:55056', '87.98.156.77:1080', '70.166.167.55:57745', '69.163.162.172:37884', '42.193.123.162:8888', '186.126.179.13:1080', '69.163.163.164:24260', '8.129.232.207:6111', '185.179.196.19:1090', '69.163.166.25:37884', '47.119.133.44:6111', '129.226.178.47:1080', '116.203.128.117:9050', '3.234.82.104:1080', '192.111.138.29:4145', '132.148.156.206:33388', '154.86.12.62:1080', '8.129.5.209:6111', '84.32.188.34:1157', '91.198.137.31:3565', '116.238.54.32:1080', '47.119.130.75:6111', '98.162.96.52:4145', '5.61.51.86:8088', '31.25.243.40:9188', '178.62.79.49:23668', '91.198.137.31:3537', '118.31.46.195:1080', '95.216.123.39:9051', '81.169.171.198:8050', '154.86.10.133:1080', '86.123.22.142:10801', '97.74.230.87:45668', '13.250.32.231:48540', '223.199.160.185:10801', '120.25.164.49:34568', '192.252.211.197:14921', '151.106.34.139:1080', '212.237.59.132:10138', '101.89.115.254:1080', '184.178.172.28:15294', '8.210.163.246:50003', '210.16.73.83:1080', '104.255.170.63:59641', '178.62.79.49:51591', '37.28.155.148:63669', '47.119.112.85:6111', '45.56.91.72:63321', '8.129.57.62:6111', '13.250.122.126:48540', '180.109.41.27:1080', '202.59.9.184:1080', '69.163.162.195:1645', '70.166.167.38:57728', '155.138.202.69:12345', '72.206.181.103:4145', '35.152.32.243:1080', '47.119.124.118:6111', '27.184.248.81:1080', '5.182.39.88:9520', '142.93.245.236:30588', '154.86.12.46:1080', '157.245.254.44:8083', '3.37.249.70:1080', '113.103.8.197:1080', '72.49.49.11:31034', '103.85.232.146:1080', '106.37.96.165:1080', '31.25.243.40:9219', '47.115.164.11:6111', '123.112.230.135:1080', '112.218.231.43:1080', '167.71.249.173:40801', '47.242.14.133:25503', '104.255.170.67:53763', '27.116.51.178:6667', '182.92.148.224:9000', '185.179.196.19:1101', '178.23.36.156:1080', '95.179.158.147:22413', '95.169.186.58:9059', '104.255.170.63:55034', '176.9.75.42:1080', '118.194.233.52:1080', '5.182.39.88:9925', '104.255.170.63:61324', '5.182.39.88:9999', '154.86.11.141:1080', '64.126.160.161:31337', '139.59.1.14:1080', '49.68.228.60:28388', '103.216.82.43:6667', '123.120.54.226:1080', '45.79.252.252:4145', '104.255.170.68:58163', '8.129.1.243:6111', '206.189.92.74:7777', '91.198.137.31:3582', '159.69.204.30:10104', '129.204.227.27:1080', '192.252.215.5:16137', '79.124.62.26:443', '104.255.170.91:53763', '8.210.163.246:50015', '98.162.25.23:4145', '54.254.195.169:1437', '132.148.15.129:38844', '13.250.14.216:48540', '132.148.159.119:7529', '192.169.201.24:48550', '83.167.246.51:52441', '181.3.94.75:1080', '47.115.11.247:6111', '13.250.36.159:48540', '195.242.110.246:1080', '104.255.170.65:58890', '13.250.100.145:48540', '13.250.3.72:48540', '47.106.248.60:6111', '72.195.34.42:4145', '192.111.139.163:19404', '132.148.157.55:4492', '154.86.8.158:1080', '47.115.186.97:6111', '192.111.137.37:18762', '91.198.137.31:3558', '104.255.170.67:62625', '162.144.64.112:10555', '114.249.25.22:1080', '20.52.130.140:16379', '69.163.163.45:49538', '132.148.156.177:7529', '138.68.60.8:1080', '45.221.76.114:8080', '91.210.229.26:1080', '49.232.36.127:1080', '43.129.236.229:9090', '106.15.32.137:1080', '104.248.48.172:30588', '8.129.230.61:6111', '47.242.206.86:25503', '95.169.187.58:9054', '181.3.134.235:1080', '43.226.158.247:1080', '173.236.183.131:31353', '5.8.41.178:10086', '181.3.35.141:1080', '119.23.43.231:6111', '85.175.100.26:1059', '47.112.158.63:6111', '68.183.111.220:12563', '208.102.51.6:58208', '142.93.245.253:30588', '43.249.31.28:8888', '8.210.163.246:50013', '95.216.181.107:9090', '209.97.150.167:1080', '159.75.49.140:10808', '31.25.243.40:9469', '163.172.45.77:9050', '91.198.137.31:3553', '139.198.179.174:3128', '47.115.121.150:6111', '154.81.181.120:1080', '67.205.145.40:10581', '91.198.137.31:3595', '184.181.217.210:4145', '97.74.230.87:26236', '1.65.196.114:1080', '125.115.168.4:1080', '114.249.28.246:1080', '91.198.137.31:3517', '51.68.37.126:9050', '43.224.10.36:6667', '104.255.170.67:53468', '72.223.168.67:4145', '154.86.10.149:1080', '88.202.177.242:1085', '8.210.251.244:6666', '192.111.129.150:4145', '154.86.9.158:1080', '45.147.177.8:1080', '180.106.23.105:1080', '202.98.37.78:1080', '31.25.243.40:9102', '139.162.78.109:1080', '72.210.252.137:4145', '69.163.163.183:1645', '8.210.163.246:50045', '54.254.195.169:8293', '185.107.82.164:3128', '104.255.170.63:57529', '192.111.135.18:18301', '49.71.71.82:1080', '134.209.29.120:1080', '192.227.223.211:8090', '69.163.162.163:24260', '47.115.172.213:6111', '8.129.130.96:6111', '207.148.74.163:32389', '181.102.46.87:8000', '192.169.249.15:63868', '192.111.139.165:19402', '132.148.155.205:4492', '5.8.41.180:10086', '103.21.163.76:6667', '47.119.156.127:6111', '154.86.8.154:1080', '91.198.137.31:3568', '60.168.238.52:1080', '72.195.34.41:4145', '104.255.170.63:58163', '104.255.170.63:58890', '186.126.159.195:1080', '3.144.47.49:9300', '45.150.236.45:8888', '176.9.65.8:36916', '216.126.198.206:1080', '154.86.8.135:1080', '114.246.180.18:10808', '61.38.252.171:1080', '119.23.42.70:6111', '18.117.219.250:9999', '144.202.78.73:20052', '134.175.38.75:8080', '8.129.233.218:6111', '8.129.231.107:6111', '119.23.54.238:6111', '184.181.217.204:4145', '27.128.245.87:9999', '194.190.83.68:1080', '104.248.48.186:30588', '158.255.208.212:8888', '163.172.45.77:9051', '123.168.202.103:1080', '119.23.108.149:6111', '18.183.192.89:10086', '47.243.44.22:80', '142.93.245.214:30588', '51.81.6.160:10366', '91.198.137.31:3592', '47.106.238.117:6111', '31.128.248.2:1080', '186.126.32.23:1080', '23.235.157.31:10086', '182.116.239.165:1080', '188.166.104.152:50725', '194.79.29.196:12345', '185.117.244.136:9050', '97.74.230.87:47150', '146.59.178.57:9300', '8.135.28.152:1080', '154.86.11.137:1080', '66.135.227.181:4145', '67.201.33.10:25283', '174.64.199.82:4145', '103.241.227.110:6667', '88.198.50.103:1080', '161.35.70.249:1080', '5.182.39.88:9897', '13.250.30.88:48540', '172.105.36.167:10843', '104.255.170.91:59874', '120.78.227.197:6111', '167.99.117.75:1081', '192.169.201.24:27229', '47.115.173.157:6111', '27.19.85.186:1080', '47.106.178.207:6111', '8.129.112.106:6111', '43.224.10.13:6667', '104.255.170.63:62625', '54.254.195.169:43778', '5.182.39.88:9682', '178.170.39.27:8081', '75.119.201.215:44771', '154.86.14.38:1080', '174.75.211.222:4145', '185.179.196.19:1083', '5.182.39.88:9712', '85.175.100.26:2067', '8.129.231.35:6111', '24.249.199.12:4145', '31.25.243.40:9274', '47.115.80.78:6111', '117.27.76.153:1080', '107.172.5.146:1080', '104.255.170.68:53763', '162.144.64.112:23779', '8.129.38.124:6111', '39.108.118.227:6111', '191.96.42.80:1080', '27.128.173.36:9999', '220.134.51.150:5678', '45.79.193.124:7158', '104.255.170.70:58163', '159.69.204.30:10738', '43.224.10.43:6667', '72.221.172.203:4145', '69.163.165.137:1645', '69.163.163.63:15268', '119.23.234.50:6111', '104.255.170.89:58890', '130.185.77.48:34424', '167.172.194.230:34454', '154.81.174.49:1080', '116.237.130.74:1080', '185.179.196.19:1084', '85.216.127.185:1080', '119.123.76.14:1080', '5.182.39.88:9739', '94.189.237.49:1080', '104.255.170.90:59874', '119.23.41.225:6111', '174.138.174.210:80', '198.199.86.11:1080', '154.81.181.145:1080', '104.238.111.167:19828', '80.78.73.81:1080', '98.178.72.8:4145', '72.221.196.157:35904', '185.150.117.41:20790', '91.198.137.31:3505', '47.119.112.206:6111', '98.162.25.29:31679', '123.54.49.27:28388', '72.195.34.58:4145', '23.235.157.78:10086', '181.6.76.144:1080', '106.75.173.103:3000', '192.252.214.20:15864', '154.86.14.56:1080', '116.30.220.172:1080', '106.55.25.18:1080', '192.252.215.2:4145', '8.129.60.111:6111', '8.129.186.1:6111', '167.71.5.83:1080', '181.6.111.203:8080', '47.112.119.149:6111', '213.136.89.190:34477', '117.35.253.242:3000', '45.77.209.51:1080', '5.182.39.88:9516', '8.129.230.113:6111', '154.86.14.53:1080', '192.111.135.17:18302', '47.112.166.43:6111', '113.116.122.40:1080', '120.79.192.116:1080', '160.251.45.174:5432', '47.119.152.7:6111', '47.119.157.183:6111', '159.69.204.30:10062', '106.75.171.132:3000', '88.198.24.108:1080', '43.129.97.182:1080', '47.100.138.228:8023', '104.255.170.63:51656', '134.209.191.118:8528', '106.225.137.86:1080', '183.15.89.250:1088', '47.106.183.183:6111', '91.198.137.31:3508', '66.49.207.24:9050', '198.199.86.148:15076', '119.123.173.95:1080', '132.148.129.108:44783', '123.129.219.11:1080', '150.109.93.240:12345', '178.62.79.49:17173', '103.73.75.33:1080', '192.254.94.21:38888', '210.16.73.84:1080', '5.199.174.242:27931', '20.78.252.183:1080', '144.202.103.75:50001', '176.9.119.170:1080', '8.210.163.246:50041', '134.209.191.118:8522', '198.199.86.148:22676', '31.25.243.40:9603', '86.107.197.228:4145', '47.106.98.34:1080', '104.255.170.65:53468', '91.198.137.31:3548', '222.129.38.138:57114', '47.92.33.145:1080', '72.210.252.134:46164', '47.115.134.144:6111', '166.62.85.224:64386', '183.15.123.232:1088', '13.250.100.165:48540', '27.116.51.85:6667', '47.106.187.183:6111', '119.136.91.74:1080', '154.86.13.62:1080', '47.105.138.127:8888', '89.162.185.34:1080', '146.71.84.122:1080', '176.114.216.181:9050', '95.169.187.58:9052', '95.169.186.58:9052', '1.116.77.99:8080', '176.9.65.8:18204', '98.162.25.7:31653', '104.255.170.66:59874', '31.25.243.40:9632', '134.209.191.118:8529', '151.106.30.102:6776', '103.122.246.192:5588', '70.166.167.36:4145', '109.72.226.74:31337', '113.58.16.164:1080', '37.49.127.229:1080', '8.210.163.246:50031', '154.16.63.16:1080', '69.163.164.68:37884', '43.231.160.77:10808', '206.189.14.224:1080', '184.185.2.190:4145', '154.86.9.134:1080', '45.77.217.118:1080', '98.170.57.231:4145', '5.182.39.88:9921', '167.172.155.178:25881', '104.255.170.64:62625', '166.62.52.74:64064', '150.129.151.83:6667', '165.22.223.92:1718', '46.101.218.6:16092', '123.118.109.83:1080', '98.188.47.132:4145', '72.217.216.239:4145', '159.69.204.30:10558', '47.112.165.43:6111', '5.182.39.88:10000', '47.119.118.187:6111', '58.218.17.17:28388', '47.119.119.149:6111', '81.70.29.123:1080', '198.8.94.170:4145', '69.61.200.104:36181', '5.252.161.48:1080', '159.65.180.9:9050', '44.192.95.151:1080', '185.132.2.134:8080', '195.201.130.228:59435', '69.163.163.117:1645', '47.119.114.31:6111', '159.69.204.30:10278', '8.129.233.32:6111', '27.116.51.92:6667', '15.160.45.11:1080', '46.105.235.26:8083', '104.255.170.69:58163', '80.87.194.27:9050', '84.32.188.37:1454', '91.198.137.31:3584', '91.198.137.31:3530', '118.114.189.241:1080', '132.148.12.126:38844', '217.19.216.222:5678', '104.255.170.66:53763', '43.224.10.33:6667', '114.246.181.142:1080', '43.224.10.48:6667', '47.106.168.103:6111', '91.198.137.31:3509', '69.163.160.15:37884', '119.23.43.208:6111', '120.196.237.162:1081', '119.96.92.145:9999', '154.86.12.47:1080', '154.86.8.149:1080', '47.115.83.91:6111', '192.169.249.15:2364', '104.128.237.63:10086', '188.166.104.152:60966', '107.172.96.169:1088', '125.33.81.128:1080', '164.132.58.157:9050', '5.182.39.88:9968', '31.25.243.40:9230', '91.198.137.31:3519', '159.75.138.11:10808', '46.101.6.187:35828', '158.255.208.243:8888', '183.23.73.5:28388', '43.224.10.37:6667', '13.59.148.91:9999', '176.114.204.28:9050', '167.71.251.145:42461', '198.199.86.148:36404', '47.112.136.89:6111', '193.112.118.89:38888', '69.163.160.61:1645', '154.86.12.56:1080', '103.216.82.37:6667', '119.28.137.105:9150', '185.107.82.172:3128', '154.86.12.58:1080', '98.178.72.21:10919', '167.172.155.178:18321', '47.115.188.17:6111', '34.81.119.243:1080', '120.77.252.167:6111', '104.255.170.63:60757', '104.255.170.91:62625', '145.239.75.187:37607', '192.154.246.211:9000', '110.138.12.134:1080', '192.154.247.182:9000', '103.250.166.12:6667', '31.25.243.40:9451', '45.9.148.138:1080', '131.221.192.158:5678', '150.109.148.234:1234', '164.155.196.179:8081', '164.155.195.180:8081', '120.237.253.142:1080', '183.236.164.121:1081', '164.155.198.152:8081', '164.155.193.168:8081', '164.155.192.154:8081', '91.198.137.31:3520', '128.199.202.122:1080']\n",
    "    headers = {\"User-Agent\":\"Mozilla/5.0 (Windows NT 10.0; Win64; x64) AppleWebKit/537.36 (KHTML, like Gecko) Chrome/92.0.4515.131 Safari/537.36 OPR/78.0.4093.153\",\"Accept-Encoding\":\"gzip, deflate\", \"Accept\":\"text/html,application/xhtml+xml,application/xml;q=0.9,*/*;q=0.8\", \"DNT\":\"1\",\"Connection\":\"close\", \"Upgrade-Insecure-Requests\":\"1\"}\n",
    "    for proxy in proxylist:\n",
    "        page = requests.get(url,headers=headers,proxies={'http://':proxy,'https://':proxy},timeout=2)\n",
    "        if page.status_code==200:\n",
    "            break\n",
    "        else:\n",
    "            continue\n",
    "    soup1 = BeautifulSoup(page.content,\"html.parser\")\n",
    "    soup2 = BeautifulSoup(soup1.prettify(), \"html.parser\")\n",
    "    return soup2"
   ]
  },
  {
   "cell_type": "markdown",
   "id": "4a0f26f4",
   "metadata": {},
   "source": [
    "<h3>Extracting the review data attributes</h3>"
   ]
  },
  {
   "cell_type": "code",
   "execution_count": 3,
   "id": "645bb00d",
   "metadata": {},
   "outputs": [],
   "source": [
    "def get_review_data(soup):\n",
    "    reviewlist = []\n",
    "    reviews = soup.find_all('div',{'data-hook':'review'})\n",
    "    try:\n",
    "        for item in reviews:\n",
    "            review_dict = {\n",
    "            'product':soup.title.text.replace('Amazon.in:Customer reviews: ','').strip(),\n",
    "            'title': item.find(class_=\"a-size-base a-link-normal review-title a-color-base review-title-content a-text-bold\").get_text().strip(),\n",
    "            'rating': float(item.find('i',{'data-hook':'review-star-rating'}).get_text().strip().replace('out of 5 stars','')),\n",
    "            'review': item.find('span',{'data-hook':'review-body'}).get_text().strip()\n",
    "            }\n",
    "            reviewlist.append(review_dict)\n",
    "    except:\n",
    "        pass\n",
    "    return reviewlist"
   ]
  },
  {
   "cell_type": "markdown",
   "id": "9c496355",
   "metadata": {},
   "source": [
    "<h3>Checking out the functions</h3>"
   ]
  },
  {
   "cell_type": "code",
   "execution_count": 4,
   "id": "a7148ac1",
   "metadata": {},
   "outputs": [],
   "source": [
    "url = 'https://www.amazon.in/SQL-Complete-Reference-James-Groff/product-reviews/1259003884/ref=cm_cr_arp_d_paging_btm_next_2?ie=UTF8&reviewerType=all_reviews&pageNumber=2'\n",
    "soup = get_soup(url)\n",
    "reviewlist = get_review_data(soup)  "
   ]
  },
  {
   "cell_type": "code",
   "execution_count": 5,
   "id": "2f91674b",
   "metadata": {},
   "outputs": [
    {
     "data": {
      "text/plain": [
       "[{'product': 'SQL The Complete Reference, 3rd Edition',\n",
       "  'title': 'Awesome Book SQL Learnerss..',\n",
       "  'rating': 5.0,\n",
       "  'review': 'Quite useful to learn the sql and the book been delivered on time by the publisher. Very good in wrapping it without damage and sending to customer without fail.'},\n",
       " {'product': 'SQL The Complete Reference, 3rd Edition',\n",
       "  'title': 'Ultimate book, go for it',\n",
       "  'rating': 5.0,\n",
       "  'review': 'Amazing book with in-depth coverage of topic'},\n",
       " {'product': 'SQL The Complete Reference, 3rd Edition',\n",
       "  'title': 'Good',\n",
       "  'rating': 5.0,\n",
       "  'review': 'Good'}]"
      ]
     },
     "execution_count": 5,
     "metadata": {},
     "output_type": "execute_result"
    }
   ],
   "source": [
    "reviewlist"
   ]
  },
  {
   "cell_type": "markdown",
   "id": "63f63bb5",
   "metadata": {},
   "source": [
    "<h3>Function for progress of extraction</h3>"
   ]
  },
  {
   "cell_type": "code",
   "execution_count": 6,
   "id": "1a5b55ea",
   "metadata": {},
   "outputs": [],
   "source": [
    "def printProgressBar (iteration, total, prefix = '', suffix = '', decimals = 1, length = 100, fill = '█', printEnd = \"\\r\"):\n",
    "    \"\"\"\n",
    "    Call in a loop to create terminal progress bar\n",
    "    @params:\n",
    "        iteration   - Required  : current iteration (Int)\n",
    "        total       - Required  : total iterations (Int)\n",
    "        prefix      - Optional  : prefix string (Str)\n",
    "        suffix      - Optional  : suffix string (Str)\n",
    "        decimals    - Optional  : positive number of decimals in percent complete (Int)\n",
    "        length      - Optional  : character length of bar (Int)\n",
    "        fill        - Optional  : bar fill character (Str)\n",
    "        printEnd    - Optional  : end character (e.g. \"\\r\", \"\\r\\n\") (Str)\n",
    "    \"\"\"\n",
    "    percent = (\"{0:.\" + str(decimals) + \"f}\").format(100 * (iteration / float(total)))\n",
    "    filledLength = int(length * iteration // total)\n",
    "    bar = fill * filledLength + '-' * (length - filledLength)\n",
    "    print(f'\\r{prefix} |{bar}| {percent}% {suffix}', end = printEnd)\n",
    "    # Print New Line on Complete\n",
    "    if iteration == total:\n",
    "        print()"
   ]
  },
  {
   "cell_type": "markdown",
   "id": "a11d04f5",
   "metadata": {},
   "source": [
    "<h3>Finding the number of pages to extract</h3>"
   ]
  },
  {
   "cell_type": "code",
   "execution_count": 7,
   "id": "bba8eb3d",
   "metadata": {},
   "outputs": [],
   "source": [
    "def find_limit(soup):\n",
    "    limit = soup.find('div',{'data-hook':'cr-filter-info-review-rating-count'})\n",
    "    limit = limit.get_text().strip()\n",
    "    limit_array = limit.split(\" \")\n",
    "    limit = int(limit_array[4].replace(',',''))\n",
    "    return limit"
   ]
  },
  {
   "cell_type": "markdown",
   "id": "8d07e828",
   "metadata": {},
   "source": [
    "<h3>Final review extracting function</h3>"
   ]
  },
  {
   "cell_type": "code",
   "execution_count": 8,
   "id": "8560afcb",
   "metadata": {},
   "outputs": [],
   "source": [
    "def product_review_data(url,no_of_pages):\n",
    "    product_data_list = []\n",
    "    product_data_list_final = []\n",
    "\n",
    "    printProgressBar(0,20,prefix = 'Progress:', suffix = 'Complete', length = 50)\n",
    "    x = 1\n",
    "    timeout = time.time() + 5*no_of_pages\n",
    "    while time.time()<timeout:\n",
    "        url_array = url.split(\"/\")\n",
    "        if x==1:\n",
    "            url_1 = 'https://www.amazon.in/'+url_array[3]+'/product-reviews/'+url_array[5]+'/ref=cm_cr_dp_d_show_all_btm?ie=UTF8&reviewerType=all_reviews'\n",
    "        else:\n",
    "            url_1 = 'https://www.amazon.in/'+url_array[3]+'/product-reviews/'+url_array[5]+'/ref=cm_cr_arp_d_paging_btm_next_'+str(x)+'?ie=UTF8&reviewerType=all_reviews&pageNumber='+str(x)\n",
    "        try:\n",
    "            soup_var = get_soup(url_1)\n",
    "            product_data_list = get_review_data(soup_var)\n",
    "            limit = find_limit(soup_var)\n",
    "            num = math.ceil(limit/10)\n",
    "            if num<no_of_pages:\n",
    "                n=num\n",
    "            elif num>=no_of_pages:\n",
    "                n=no_of_pages\n",
    "            if product_data_list==[]:\n",
    "                continue\n",
    "        except:\n",
    "            continue\n",
    "        product_data_list_final.extend(product_data_list)\n",
    "        #print(len(product_data_list_final))\n",
    "        #time.sleep(0.1)\n",
    "        printProgressBar(x,n,prefix = 'Progress:', suffix = 'Complete', length = 50)\n",
    "        if x==n:\n",
    "            break\n",
    "        x = x + 1\n",
    "        if not soup_var.find('li',{'class':'a-disabled a-last'}):\n",
    "            pass\n",
    "        else:\n",
    "            break\n",
    "\n",
    "    df = pd.DataFrame(product_data_list_final)\n",
    "    return df"
   ]
  },
  {
   "cell_type": "code",
   "execution_count": 9,
   "id": "467fb3aa",
   "metadata": {},
   "outputs": [],
   "source": [
    "def load_Amazon_product_review_data(url,no_of_pages):\n",
    "    #keyword = input(\"Enter a keyword to search : \")\n",
    "    df_1 = product_review_data(url,no_of_pages)\n",
    "    print(\"Loading Successful, Size of Dataframe : \",df_1.shape)\n",
    "    return df_1"
   ]
  },
  {
   "cell_type": "code",
   "execution_count": 10,
   "id": "a95c5d67",
   "metadata": {},
   "outputs": [
    {
     "name": "stdout",
     "output_type": "stream",
     "text": [
      "Progress: |██████████████████████████████████████████████████| 100.0% Complete\n",
      "Loading Successful, Size of Dataframe :  (13, 4)\n"
     ]
    }
   ],
   "source": [
    "df = load_Amazon_product_review_data(\"https://www.amazon.in/SQL-Complete-Reference-James-Groff/dp/1259003884/ref=sr_1_3?keywords=SQL-Complete-Reference-James-Groff&qid=1641720819&sr=8-3\",10)"
   ]
  },
  {
   "cell_type": "markdown",
   "id": "a065d09a",
   "metadata": {},
   "source": [
    "<h3>Checking out the final Dataframe</h3>"
   ]
  },
  {
   "cell_type": "code",
   "execution_count": 11,
   "id": "040e9095",
   "metadata": {},
   "outputs": [
    {
     "data": {
      "text/html": [
       "<div>\n",
       "<style scoped>\n",
       "    .dataframe tbody tr th:only-of-type {\n",
       "        vertical-align: middle;\n",
       "    }\n",
       "\n",
       "    .dataframe tbody tr th {\n",
       "        vertical-align: top;\n",
       "    }\n",
       "\n",
       "    .dataframe thead th {\n",
       "        text-align: right;\n",
       "    }\n",
       "</style>\n",
       "<table border=\"1\" class=\"dataframe\">\n",
       "  <thead>\n",
       "    <tr style=\"text-align: right;\">\n",
       "      <th></th>\n",
       "      <th>product</th>\n",
       "      <th>title</th>\n",
       "      <th>rating</th>\n",
       "      <th>review</th>\n",
       "    </tr>\n",
       "  </thead>\n",
       "  <tbody>\n",
       "    <tr>\n",
       "      <th>0</th>\n",
       "      <td>SQL The Complete Reference, 3rd Edition</td>\n",
       "      <td>Really boring and difficult to read.</td>\n",
       "      <td>3.0</td>\n",
       "      <td>The book makes understanding simple concepts a...</td>\n",
       "    </tr>\n",
       "    <tr>\n",
       "      <th>1</th>\n",
       "      <td>SQL The Complete Reference, 3rd Edition</td>\n",
       "      <td>Got SQL book at reasonable prices</td>\n",
       "      <td>4.0</td>\n",
       "      <td>Nice and economical product</td>\n",
       "    </tr>\n",
       "    <tr>\n",
       "      <th>2</th>\n",
       "      <td>SQL The Complete Reference, 3rd Edition</td>\n",
       "      <td>Good book</td>\n",
       "      <td>5.0</td>\n",
       "      <td>Good book</td>\n",
       "    </tr>\n",
       "    <tr>\n",
       "      <th>3</th>\n",
       "      <td>SQL The Complete Reference, 3rd Edition</td>\n",
       "      <td>SQL Guidebook</td>\n",
       "      <td>5.0</td>\n",
       "      <td>Good book for beginners as well as professionals.</td>\n",
       "    </tr>\n",
       "    <tr>\n",
       "      <th>4</th>\n",
       "      <td>SQL The Complete Reference, 3rd Edition</td>\n",
       "      <td>SQL</td>\n",
       "      <td>5.0</td>\n",
       "      <td>Good , it help to improve the knowledge</td>\n",
       "    </tr>\n",
       "    <tr>\n",
       "      <th>5</th>\n",
       "      <td>SQL The Complete Reference, 3rd Edition</td>\n",
       "      <td>For Beginners</td>\n",
       "      <td>4.0</td>\n",
       "      <td>Nice book\\n                 \\n                ...</td>\n",
       "    </tr>\n",
       "    <tr>\n",
       "      <th>6</th>\n",
       "      <td>SQL The Complete Reference, 3rd Edition</td>\n",
       "      <td>Nice</td>\n",
       "      <td>5.0</td>\n",
       "      <td>It's very nice, in this all the topics covered</td>\n",
       "    </tr>\n",
       "    <tr>\n",
       "      <th>7</th>\n",
       "      <td>SQL The Complete Reference, 3rd Edition</td>\n",
       "      <td>Defective product</td>\n",
       "      <td>1.0</td>\n",
       "      <td>Defective  product</td>\n",
       "    </tr>\n",
       "    <tr>\n",
       "      <th>8</th>\n",
       "      <td>SQL The Complete Reference, 3rd Edition</td>\n",
       "      <td>Four Stars</td>\n",
       "      <td>4.0</td>\n",
       "      <td>its so deeply</td>\n",
       "    </tr>\n",
       "    <tr>\n",
       "      <th>9</th>\n",
       "      <td>SQL The Complete Reference, 3rd Edition</td>\n",
       "      <td>Excellent</td>\n",
       "      <td>5.0</td>\n",
       "      <td>Excellent</td>\n",
       "    </tr>\n",
       "    <tr>\n",
       "      <th>10</th>\n",
       "      <td>SQL The Complete Reference, 3rd Edition</td>\n",
       "      <td>Awesome Book SQL Learnerss..</td>\n",
       "      <td>5.0</td>\n",
       "      <td>Quite useful to learn the sql and the book bee...</td>\n",
       "    </tr>\n",
       "    <tr>\n",
       "      <th>11</th>\n",
       "      <td>SQL The Complete Reference, 3rd Edition</td>\n",
       "      <td>Ultimate book, go for it</td>\n",
       "      <td>5.0</td>\n",
       "      <td>Amazing book with in-depth coverage of topic</td>\n",
       "    </tr>\n",
       "    <tr>\n",
       "      <th>12</th>\n",
       "      <td>SQL The Complete Reference, 3rd Edition</td>\n",
       "      <td>Good</td>\n",
       "      <td>5.0</td>\n",
       "      <td>Good</td>\n",
       "    </tr>\n",
       "  </tbody>\n",
       "</table>\n",
       "</div>"
      ],
      "text/plain": [
       "                                    product  \\\n",
       "0   SQL The Complete Reference, 3rd Edition   \n",
       "1   SQL The Complete Reference, 3rd Edition   \n",
       "2   SQL The Complete Reference, 3rd Edition   \n",
       "3   SQL The Complete Reference, 3rd Edition   \n",
       "4   SQL The Complete Reference, 3rd Edition   \n",
       "5   SQL The Complete Reference, 3rd Edition   \n",
       "6   SQL The Complete Reference, 3rd Edition   \n",
       "7   SQL The Complete Reference, 3rd Edition   \n",
       "8   SQL The Complete Reference, 3rd Edition   \n",
       "9   SQL The Complete Reference, 3rd Edition   \n",
       "10  SQL The Complete Reference, 3rd Edition   \n",
       "11  SQL The Complete Reference, 3rd Edition   \n",
       "12  SQL The Complete Reference, 3rd Edition   \n",
       "\n",
       "                                   title  rating  \\\n",
       "0   Really boring and difficult to read.     3.0   \n",
       "1      Got SQL book at reasonable prices     4.0   \n",
       "2                              Good book     5.0   \n",
       "3                          SQL Guidebook     5.0   \n",
       "4                                    SQL     5.0   \n",
       "5                          For Beginners     4.0   \n",
       "6                                   Nice     5.0   \n",
       "7                      Defective product     1.0   \n",
       "8                             Four Stars     4.0   \n",
       "9                              Excellent     5.0   \n",
       "10          Awesome Book SQL Learnerss..     5.0   \n",
       "11              Ultimate book, go for it     5.0   \n",
       "12                                  Good     5.0   \n",
       "\n",
       "                                               review  \n",
       "0   The book makes understanding simple concepts a...  \n",
       "1                         Nice and economical product  \n",
       "2                                           Good book  \n",
       "3   Good book for beginners as well as professionals.  \n",
       "4             Good , it help to improve the knowledge  \n",
       "5   Nice book\\n                 \\n                ...  \n",
       "6      It's very nice, in this all the topics covered  \n",
       "7                                  Defective  product  \n",
       "8                                       its so deeply  \n",
       "9                                           Excellent  \n",
       "10  Quite useful to learn the sql and the book bee...  \n",
       "11       Amazing book with in-depth coverage of topic  \n",
       "12                                               Good  "
      ]
     },
     "execution_count": 11,
     "metadata": {},
     "output_type": "execute_result"
    }
   ],
   "source": [
    "df"
   ]
  }
 ],
 "metadata": {
  "kernelspec": {
   "display_name": "Python 3 (ipykernel)",
   "language": "python",
   "name": "python3"
  },
  "language_info": {
   "codemirror_mode": {
    "name": "ipython",
    "version": 3
   },
   "file_extension": ".py",
   "mimetype": "text/x-python",
   "name": "python",
   "nbconvert_exporter": "python",
   "pygments_lexer": "ipython3",
   "version": "3.9.7"
  },
  "latex_envs": {
   "LaTeX_envs_menu_present": true,
   "autoclose": false,
   "autocomplete": true,
   "bibliofile": "biblio.bib",
   "cite_by": "apalike",
   "current_citInitial": 1,
   "eqLabelWithNumbers": true,
   "eqNumInitial": 1,
   "hotkeys": {
    "equation": "Ctrl-E",
    "itemize": "Ctrl-I"
   },
   "labels_anchors": false,
   "latex_user_defs": false,
   "report_style_numbering": false,
   "user_envs_cfg": false
  }
 },
 "nbformat": 4,
 "nbformat_minor": 5
}
