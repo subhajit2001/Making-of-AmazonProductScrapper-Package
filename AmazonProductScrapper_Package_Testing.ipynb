{
  "cells": [
    {
      "cell_type": "code",
      "source": [
        "!pip install -i https://test.pypi.org/simple/ AmazonProductScrapper"
      ],
      "metadata": {
        "colab": {
          "base_uri": "https://localhost:8080/"
        },
        "id": "BqoTE25tlpoX",
        "outputId": "7fe14eb0-3bb3-4aaa-fc48-ce7264ae8e79"
      },
      "id": "BqoTE25tlpoX",
      "execution_count": 2,
      "outputs": [
        {
          "output_type": "stream",
          "name": "stdout",
          "text": [
            "Looking in indexes: https://test.pypi.org/simple/\n",
            "Collecting AmazonProductScrapper\n",
            "  Downloading https://test-files.pythonhosted.org/packages/85/23/eb9820e484456c4349793a3cd26c1dcebc22c67f10736e4ad4acffe20ab6/AmazonProductScrapper-2022.1.0-py3-none-any.whl (13 kB)\n",
            "Requirement already satisfied: bs4 in /usr/local/lib/python3.7/dist-packages (from AmazonProductScrapper) (0.0.1)\n",
            "Requirement already satisfied: pandas in /usr/local/lib/python3.7/dist-packages (from AmazonProductScrapper) (1.1.5)\n",
            "Requirement already satisfied: requests in /usr/local/lib/python3.7/dist-packages (from AmazonProductScrapper) (2.23.0)\n",
            "Requirement already satisfied: beautifulsoup4 in /usr/local/lib/python3.7/dist-packages (from bs4->AmazonProductScrapper) (4.6.3)\n",
            "Requirement already satisfied: pytz>=2017.2 in /usr/local/lib/python3.7/dist-packages (from pandas->AmazonProductScrapper) (2018.9)\n",
            "Requirement already satisfied: python-dateutil>=2.7.3 in /usr/local/lib/python3.7/dist-packages (from pandas->AmazonProductScrapper) (2.8.2)\n",
            "Requirement already satisfied: numpy>=1.15.4 in /usr/local/lib/python3.7/dist-packages (from pandas->AmazonProductScrapper) (1.19.5)\n",
            "Requirement already satisfied: six>=1.5 in /usr/local/lib/python3.7/dist-packages (from python-dateutil>=2.7.3->pandas->AmazonProductScrapper) (1.15.0)\n",
            "Requirement already satisfied: idna<3,>=2.5 in /usr/local/lib/python3.7/dist-packages (from requests->AmazonProductScrapper) (2.10)\n",
            "Requirement already satisfied: certifi>=2017.4.17 in /usr/local/lib/python3.7/dist-packages (from requests->AmazonProductScrapper) (2021.10.8)\n",
            "Requirement already satisfied: chardet<4,>=3.0.2 in /usr/local/lib/python3.7/dist-packages (from requests->AmazonProductScrapper) (3.0.4)\n",
            "Requirement already satisfied: urllib3!=1.25.0,!=1.25.1,<1.26,>=1.21.1 in /usr/local/lib/python3.7/dist-packages (from requests->AmazonProductScrapper) (1.24.3)\n",
            "Installing collected packages: AmazonProductScrapper\n",
            "Successfully installed AmazonProductScrapper-2022.1.0\n"
          ]
        }
      ]
    },
    {
      "cell_type": "markdown",
      "id": "ddd30da3",
      "metadata": {
        "id": "ddd30da3"
      },
      "source": [
        "<h3>Importing the package</h3>"
      ]
    },
    {
      "cell_type": "code",
      "execution_count": 3,
      "id": "ba5fec3f",
      "metadata": {
        "id": "ba5fec3f"
      },
      "outputs": [],
      "source": [
        "import AmazonProductScrapper as aps"
      ]
    },
    {
      "cell_type": "markdown",
      "id": "c552e436",
      "metadata": {
        "id": "c552e436"
      },
      "source": [
        "<h3>Checking the review function</h3>"
      ]
    },
    {
      "cell_type": "code",
      "execution_count": 4,
      "id": "a009a0ec",
      "metadata": {
        "colab": {
          "base_uri": "https://localhost:8080/"
        },
        "id": "a009a0ec",
        "outputId": "214651b1-a05d-45d3-99a5-dfb7c4824b94"
      },
      "outputs": [
        {
          "output_type": "stream",
          "name": "stdout",
          "text": [
            "Progress: |██████████████████████████████████████████████████| 100.0% Complete\n",
            "Loading Successful, Size of Dataframe :  (5000, 4)\n"
          ]
        }
      ],
      "source": [
        "df = aps.load_Amazon_product_review_data(\"https://www.amazon.in/Boat-BassHeads-900-Wired-Headphone/dp/B074ZF7PVZ/ref=sr_1_3?crid=UPDZLG5ER2D3&keywords=headphones&qid=1640276178&sprefix=headphone%2Caps%2C647&sr=8-3\",500)"
      ]
    },
    {
      "cell_type": "markdown",
      "id": "ac88a085",
      "metadata": {
        "id": "ac88a085"
      },
      "source": [
        "<h3>Checking the dataframe</h3>"
      ]
    },
    {
      "cell_type": "code",
      "execution_count": 7,
      "id": "c8af2503",
      "metadata": {
        "colab": {
          "base_uri": "https://localhost:8080/",
          "height": 206
        },
        "id": "c8af2503",
        "outputId": "56854794-99f2-4f1b-9998-1c07c29e51cb"
      },
      "outputs": [
        {
          "output_type": "execute_result",
          "data": {
            "text/html": [
              "\n",
              "  <div id=\"df-2d8b5652-cb04-44db-9cfa-5ee8f34f16e7\">\n",
              "    <div class=\"colab-df-container\">\n",
              "      <div>\n",
              "<style scoped>\n",
              "    .dataframe tbody tr th:only-of-type {\n",
              "        vertical-align: middle;\n",
              "    }\n",
              "\n",
              "    .dataframe tbody tr th {\n",
              "        vertical-align: top;\n",
              "    }\n",
              "\n",
              "    .dataframe thead th {\n",
              "        text-align: right;\n",
              "    }\n",
              "</style>\n",
              "<table border=\"1\" class=\"dataframe\">\n",
              "  <thead>\n",
              "    <tr style=\"text-align: right;\">\n",
              "      <th></th>\n",
              "      <th>product</th>\n",
              "      <th>title</th>\n",
              "      <th>rating</th>\n",
              "      <th>review</th>\n",
              "    </tr>\n",
              "  </thead>\n",
              "  <tbody>\n",
              "    <tr>\n",
              "      <th>0</th>\n",
              "      <td>boAt Bassheads 900 Wired On Ear Headphones wit...</td>\n",
              "      <td>Read my review to avoid ear pain</td>\n",
              "      <td>5.0</td>\n",
              "      <td>This is my honest review after using it for 20...</td>\n",
              "    </tr>\n",
              "    <tr>\n",
              "      <th>1</th>\n",
              "      <td>boAt Bassheads 900 Wired On Ear Headphones wit...</td>\n",
              "      <td>Bad bad bad quality</td>\n",
              "      <td>1.0</td>\n",
              "      <td>It has stopped working within warranty period ...</td>\n",
              "    </tr>\n",
              "    <tr>\n",
              "      <th>2</th>\n",
              "      <td>boAt Bassheads 900 Wired On Ear Headphones wit...</td>\n",
              "      <td>One Star</td>\n",
              "      <td>1.0</td>\n",
              "      <td>Received second hand headphone</td>\n",
              "    </tr>\n",
              "    <tr>\n",
              "      <th>3</th>\n",
              "      <td>boAt Bassheads 900 Wired On Ear Headphones wit...</td>\n",
              "      <td>Unbiased review</td>\n",
              "      <td>4.0</td>\n",
              "      <td>Im going to give a small comparison of this pr...</td>\n",
              "    </tr>\n",
              "    <tr>\n",
              "      <th>4</th>\n",
              "      <td>boAt Bassheads 900 Wired On Ear Headphones wit...</td>\n",
              "      <td>Best Bass Heads.... But</td>\n",
              "      <td>4.0</td>\n",
              "      <td>The Boat bass heads really live up to their na...</td>\n",
              "    </tr>\n",
              "  </tbody>\n",
              "</table>\n",
              "</div>\n",
              "      <button class=\"colab-df-convert\" onclick=\"convertToInteractive('df-2d8b5652-cb04-44db-9cfa-5ee8f34f16e7')\"\n",
              "              title=\"Convert this dataframe to an interactive table.\"\n",
              "              style=\"display:none;\">\n",
              "        \n",
              "  <svg xmlns=\"http://www.w3.org/2000/svg\" height=\"24px\"viewBox=\"0 0 24 24\"\n",
              "       width=\"24px\">\n",
              "    <path d=\"M0 0h24v24H0V0z\" fill=\"none\"/>\n",
              "    <path d=\"M18.56 5.44l.94 2.06.94-2.06 2.06-.94-2.06-.94-.94-2.06-.94 2.06-2.06.94zm-11 1L8.5 8.5l.94-2.06 2.06-.94-2.06-.94L8.5 2.5l-.94 2.06-2.06.94zm10 10l.94 2.06.94-2.06 2.06-.94-2.06-.94-.94-2.06-.94 2.06-2.06.94z\"/><path d=\"M17.41 7.96l-1.37-1.37c-.4-.4-.92-.59-1.43-.59-.52 0-1.04.2-1.43.59L10.3 9.45l-7.72 7.72c-.78.78-.78 2.05 0 2.83L4 21.41c.39.39.9.59 1.41.59.51 0 1.02-.2 1.41-.59l7.78-7.78 2.81-2.81c.8-.78.8-2.07 0-2.86zM5.41 20L4 18.59l7.72-7.72 1.47 1.35L5.41 20z\"/>\n",
              "  </svg>\n",
              "      </button>\n",
              "      \n",
              "  <style>\n",
              "    .colab-df-container {\n",
              "      display:flex;\n",
              "      flex-wrap:wrap;\n",
              "      gap: 12px;\n",
              "    }\n",
              "\n",
              "    .colab-df-convert {\n",
              "      background-color: #E8F0FE;\n",
              "      border: none;\n",
              "      border-radius: 50%;\n",
              "      cursor: pointer;\n",
              "      display: none;\n",
              "      fill: #1967D2;\n",
              "      height: 32px;\n",
              "      padding: 0 0 0 0;\n",
              "      width: 32px;\n",
              "    }\n",
              "\n",
              "    .colab-df-convert:hover {\n",
              "      background-color: #E2EBFA;\n",
              "      box-shadow: 0px 1px 2px rgba(60, 64, 67, 0.3), 0px 1px 3px 1px rgba(60, 64, 67, 0.15);\n",
              "      fill: #174EA6;\n",
              "    }\n",
              "\n",
              "    [theme=dark] .colab-df-convert {\n",
              "      background-color: #3B4455;\n",
              "      fill: #D2E3FC;\n",
              "    }\n",
              "\n",
              "    [theme=dark] .colab-df-convert:hover {\n",
              "      background-color: #434B5C;\n",
              "      box-shadow: 0px 1px 3px 1px rgba(0, 0, 0, 0.15);\n",
              "      filter: drop-shadow(0px 1px 2px rgba(0, 0, 0, 0.3));\n",
              "      fill: #FFFFFF;\n",
              "    }\n",
              "  </style>\n",
              "\n",
              "      <script>\n",
              "        const buttonEl =\n",
              "          document.querySelector('#df-2d8b5652-cb04-44db-9cfa-5ee8f34f16e7 button.colab-df-convert');\n",
              "        buttonEl.style.display =\n",
              "          google.colab.kernel.accessAllowed ? 'block' : 'none';\n",
              "\n",
              "        async function convertToInteractive(key) {\n",
              "          const element = document.querySelector('#df-2d8b5652-cb04-44db-9cfa-5ee8f34f16e7');\n",
              "          const dataTable =\n",
              "            await google.colab.kernel.invokeFunction('convertToInteractive',\n",
              "                                                     [key], {});\n",
              "          if (!dataTable) return;\n",
              "\n",
              "          const docLinkHtml = 'Like what you see? Visit the ' +\n",
              "            '<a target=\"_blank\" href=https://colab.research.google.com/notebooks/data_table.ipynb>data table notebook</a>'\n",
              "            + ' to learn more about interactive tables.';\n",
              "          element.innerHTML = '';\n",
              "          dataTable['output_type'] = 'display_data';\n",
              "          await google.colab.output.renderOutput(dataTable, element);\n",
              "          const docLink = document.createElement('div');\n",
              "          docLink.innerHTML = docLinkHtml;\n",
              "          element.appendChild(docLink);\n",
              "        }\n",
              "      </script>\n",
              "    </div>\n",
              "  </div>\n",
              "  "
            ],
            "text/plain": [
              "                                             product  ...                                             review\n",
              "0  boAt Bassheads 900 Wired On Ear Headphones wit...  ...  This is my honest review after using it for 20...\n",
              "1  boAt Bassheads 900 Wired On Ear Headphones wit...  ...  It has stopped working within warranty period ...\n",
              "2  boAt Bassheads 900 Wired On Ear Headphones wit...  ...                     Received second hand headphone\n",
              "3  boAt Bassheads 900 Wired On Ear Headphones wit...  ...  Im going to give a small comparison of this pr...\n",
              "4  boAt Bassheads 900 Wired On Ear Headphones wit...  ...  The Boat bass heads really live up to their na...\n",
              "\n",
              "[5 rows x 4 columns]"
            ]
          },
          "metadata": {},
          "execution_count": 7
        }
      ],
      "source": [
        "df.head()"
      ]
    },
    {
      "cell_type": "markdown",
      "id": "8f80f371",
      "metadata": {
        "id": "8f80f371"
      },
      "source": [
        "<h3>Checking the products details function</h3>"
      ]
    },
    {
      "cell_type": "code",
      "execution_count": 8,
      "id": "f7ecca9c",
      "metadata": {
        "colab": {
          "base_uri": "https://localhost:8080/"
        },
        "id": "f7ecca9c",
        "outputId": "8ed707b1-d5d9-41a7-e9a7-ae3adf49083c"
      },
      "outputs": [
        {
          "output_type": "stream",
          "name": "stdout",
          "text": [
            "Progress: |██████████████████████████████████████████████████| 100.0% Complete\n",
            "Loading Successful, Size of Dataframe :  (277, 6)\n"
          ]
        }
      ],
      "source": [
        "df = aps.load_Amazon_product_data(\"tabs\")"
      ]
    },
    {
      "cell_type": "markdown",
      "id": "b163ebab",
      "metadata": {
        "id": "b163ebab"
      },
      "source": [
        "<h3>Checking the dataframe</h3>"
      ]
    },
    {
      "cell_type": "code",
      "execution_count": 9,
      "id": "3e33b00c",
      "metadata": {
        "colab": {
          "base_uri": "https://localhost:8080/",
          "height": 206
        },
        "id": "3e33b00c",
        "outputId": "325efb0f-501b-4d5e-9a93-f10be4ba36d6"
      },
      "outputs": [
        {
          "output_type": "execute_result",
          "data": {
            "text/html": [
              "\n",
              "  <div id=\"df-afb6dbfd-b13e-4a30-8409-5dec4e7ac6b3\">\n",
              "    <div class=\"colab-df-container\">\n",
              "      <div>\n",
              "<style scoped>\n",
              "    .dataframe tbody tr th:only-of-type {\n",
              "        vertical-align: middle;\n",
              "    }\n",
              "\n",
              "    .dataframe tbody tr th {\n",
              "        vertical-align: top;\n",
              "    }\n",
              "\n",
              "    .dataframe thead th {\n",
              "        text-align: right;\n",
              "    }\n",
              "</style>\n",
              "<table border=\"1\" class=\"dataframe\">\n",
              "  <thead>\n",
              "    <tr style=\"text-align: right;\">\n",
              "      <th></th>\n",
              "      <th>Product_Name</th>\n",
              "      <th>Product_Price</th>\n",
              "      <th>Actual_Product_Price</th>\n",
              "      <th>Product_Rating(5)</th>\n",
              "      <th>No._of_ratings</th>\n",
              "      <th>Link</th>\n",
              "    </tr>\n",
              "  </thead>\n",
              "  <tbody>\n",
              "    <tr>\n",
              "      <th>0</th>\n",
              "      <td>Lenovo Tab M10 FHD Plus Tablet (26.16 cm (10.3...</td>\n",
              "      <td>19499.0</td>\n",
              "      <td>35000.0</td>\n",
              "      <td>4.0</td>\n",
              "      <td>13404</td>\n",
              "      <td>#</td>\n",
              "    </tr>\n",
              "    <tr>\n",
              "      <th>1</th>\n",
              "      <td>Lenovo Tab M10 HD 2nd Gen (25.65 cm (10.1 inch...</td>\n",
              "      <td>11499.0</td>\n",
              "      <td>18990.0</td>\n",
              "      <td>4.1</td>\n",
              "      <td>3115</td>\n",
              "      <td>#</td>\n",
              "    </tr>\n",
              "    <tr>\n",
              "      <th>2</th>\n",
              "      <td>Lenovo Tab M10 FHD Plus Tablet (26.16 cm (10.3...</td>\n",
              "      <td>19499.0</td>\n",
              "      <td>35000.0</td>\n",
              "      <td>4.0</td>\n",
              "      <td>13404</td>\n",
              "      <td>/Lenovo-Tab-M10-FHD-Plus/dp/B08BZSR4TX/ref=sr_...</td>\n",
              "    </tr>\n",
              "    <tr>\n",
              "      <th>3</th>\n",
              "      <td>Lenovo Tab M10 HD 2nd Gen (25.65 cm (10.1 inch...</td>\n",
              "      <td>11499.0</td>\n",
              "      <td>18990.0</td>\n",
              "      <td>4.1</td>\n",
              "      <td>3115</td>\n",
              "      <td>/Lenovo-10-1-Wi-Fi-Metallic-Processor/dp/B08ZY...</td>\n",
              "    </tr>\n",
              "    <tr>\n",
              "      <th>4</th>\n",
              "      <td>Samsung Galaxy Tab A7 26.31 cm (10.4 inch), Sl...</td>\n",
              "      <td>15499.0</td>\n",
              "      <td>21999.0</td>\n",
              "      <td>4.4</td>\n",
              "      <td>1055</td>\n",
              "      <td>/gp/bestsellers/computers/1375458031/ref=sr_bs...</td>\n",
              "    </tr>\n",
              "  </tbody>\n",
              "</table>\n",
              "</div>\n",
              "      <button class=\"colab-df-convert\" onclick=\"convertToInteractive('df-afb6dbfd-b13e-4a30-8409-5dec4e7ac6b3')\"\n",
              "              title=\"Convert this dataframe to an interactive table.\"\n",
              "              style=\"display:none;\">\n",
              "        \n",
              "  <svg xmlns=\"http://www.w3.org/2000/svg\" height=\"24px\"viewBox=\"0 0 24 24\"\n",
              "       width=\"24px\">\n",
              "    <path d=\"M0 0h24v24H0V0z\" fill=\"none\"/>\n",
              "    <path d=\"M18.56 5.44l.94 2.06.94-2.06 2.06-.94-2.06-.94-.94-2.06-.94 2.06-2.06.94zm-11 1L8.5 8.5l.94-2.06 2.06-.94-2.06-.94L8.5 2.5l-.94 2.06-2.06.94zm10 10l.94 2.06.94-2.06 2.06-.94-2.06-.94-.94-2.06-.94 2.06-2.06.94z\"/><path d=\"M17.41 7.96l-1.37-1.37c-.4-.4-.92-.59-1.43-.59-.52 0-1.04.2-1.43.59L10.3 9.45l-7.72 7.72c-.78.78-.78 2.05 0 2.83L4 21.41c.39.39.9.59 1.41.59.51 0 1.02-.2 1.41-.59l7.78-7.78 2.81-2.81c.8-.78.8-2.07 0-2.86zM5.41 20L4 18.59l7.72-7.72 1.47 1.35L5.41 20z\"/>\n",
              "  </svg>\n",
              "      </button>\n",
              "      \n",
              "  <style>\n",
              "    .colab-df-container {\n",
              "      display:flex;\n",
              "      flex-wrap:wrap;\n",
              "      gap: 12px;\n",
              "    }\n",
              "\n",
              "    .colab-df-convert {\n",
              "      background-color: #E8F0FE;\n",
              "      border: none;\n",
              "      border-radius: 50%;\n",
              "      cursor: pointer;\n",
              "      display: none;\n",
              "      fill: #1967D2;\n",
              "      height: 32px;\n",
              "      padding: 0 0 0 0;\n",
              "      width: 32px;\n",
              "    }\n",
              "\n",
              "    .colab-df-convert:hover {\n",
              "      background-color: #E2EBFA;\n",
              "      box-shadow: 0px 1px 2px rgba(60, 64, 67, 0.3), 0px 1px 3px 1px rgba(60, 64, 67, 0.15);\n",
              "      fill: #174EA6;\n",
              "    }\n",
              "\n",
              "    [theme=dark] .colab-df-convert {\n",
              "      background-color: #3B4455;\n",
              "      fill: #D2E3FC;\n",
              "    }\n",
              "\n",
              "    [theme=dark] .colab-df-convert:hover {\n",
              "      background-color: #434B5C;\n",
              "      box-shadow: 0px 1px 3px 1px rgba(0, 0, 0, 0.15);\n",
              "      filter: drop-shadow(0px 1px 2px rgba(0, 0, 0, 0.3));\n",
              "      fill: #FFFFFF;\n",
              "    }\n",
              "  </style>\n",
              "\n",
              "      <script>\n",
              "        const buttonEl =\n",
              "          document.querySelector('#df-afb6dbfd-b13e-4a30-8409-5dec4e7ac6b3 button.colab-df-convert');\n",
              "        buttonEl.style.display =\n",
              "          google.colab.kernel.accessAllowed ? 'block' : 'none';\n",
              "\n",
              "        async function convertToInteractive(key) {\n",
              "          const element = document.querySelector('#df-afb6dbfd-b13e-4a30-8409-5dec4e7ac6b3');\n",
              "          const dataTable =\n",
              "            await google.colab.kernel.invokeFunction('convertToInteractive',\n",
              "                                                     [key], {});\n",
              "          if (!dataTable) return;\n",
              "\n",
              "          const docLinkHtml = 'Like what you see? Visit the ' +\n",
              "            '<a target=\"_blank\" href=https://colab.research.google.com/notebooks/data_table.ipynb>data table notebook</a>'\n",
              "            + ' to learn more about interactive tables.';\n",
              "          element.innerHTML = '';\n",
              "          dataTable['output_type'] = 'display_data';\n",
              "          await google.colab.output.renderOutput(dataTable, element);\n",
              "          const docLink = document.createElement('div');\n",
              "          docLink.innerHTML = docLinkHtml;\n",
              "          element.appendChild(docLink);\n",
              "        }\n",
              "      </script>\n",
              "    </div>\n",
              "  </div>\n",
              "  "
            ],
            "text/plain": [
              "                                        Product_Name  ...                                               Link\n",
              "0  Lenovo Tab M10 FHD Plus Tablet (26.16 cm (10.3...  ...                                                  #\n",
              "1  Lenovo Tab M10 HD 2nd Gen (25.65 cm (10.1 inch...  ...                                                  #\n",
              "2  Lenovo Tab M10 FHD Plus Tablet (26.16 cm (10.3...  ...  /Lenovo-Tab-M10-FHD-Plus/dp/B08BZSR4TX/ref=sr_...\n",
              "3  Lenovo Tab M10 HD 2nd Gen (25.65 cm (10.1 inch...  ...  /Lenovo-10-1-Wi-Fi-Metallic-Processor/dp/B08ZY...\n",
              "4  Samsung Galaxy Tab A7 26.31 cm (10.4 inch), Sl...  ...  /gp/bestsellers/computers/1375458031/ref=sr_bs...\n",
              "\n",
              "[5 rows x 6 columns]"
            ]
          },
          "metadata": {},
          "execution_count": 9
        }
      ],
      "source": [
        "df.head()"
      ]
    }
  ],
  "metadata": {
    "kernelspec": {
      "display_name": "Python 3 (ipykernel)",
      "language": "python",
      "name": "python3"
    },
    "language_info": {
      "codemirror_mode": {
        "name": "ipython",
        "version": 3
      },
      "file_extension": ".py",
      "mimetype": "text/x-python",
      "name": "python",
      "nbconvert_exporter": "python",
      "pygments_lexer": "ipython3",
      "version": "3.9.7"
    },
    "colab": {
      "name": "AmazonProductScrapper Package Testing.ipynb",
      "provenance": [],
      "collapsed_sections": []
    }
  },
  "nbformat": 4,
  "nbformat_minor": 5
}