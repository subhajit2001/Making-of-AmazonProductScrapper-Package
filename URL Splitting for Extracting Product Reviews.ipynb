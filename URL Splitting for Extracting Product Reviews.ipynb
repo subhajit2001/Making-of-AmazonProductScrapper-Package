{
 "cells": [
  {
   "cell_type": "markdown",
   "id": "0dafa396",
   "metadata": {},
   "source": [
    "<h3>Original Link</h3>"
   ]
  },
  {
   "cell_type": "code",
   "execution_count": 1,
   "id": "93971c78-7f48-43ea-a8ff-e80659e512ec",
   "metadata": {},
   "outputs": [],
   "source": [
    "url = \"https://www.amazon.in/Lenovo-IdeaPad-Celeron-Platinum-81WH007KIN/dp/B09MM4FPMR/ref=sr_1_3?crid=30R34DWTFV1LU&keywords=laptops&qid=1640247787&sprefix=lap%2Caps%2C699&sr=8-3\""
   ]
  },
  {
   "cell_type": "markdown",
   "id": "f55b2626",
   "metadata": {},
   "source": [
    "<h3>Splitting the URL into Distinctive parts</h3>"
   ]
  },
  {
   "cell_type": "code",
   "execution_count": 2,
   "id": "d32504d9-c06c-450f-8b8e-c87fe717ea76",
   "metadata": {},
   "outputs": [],
   "source": [
    "url_array = url.split(\"/\")"
   ]
  },
  {
   "cell_type": "markdown",
   "id": "e7ec9c01",
   "metadata": {},
   "source": [
    "<h3>Printing the URL parts</h3>"
   ]
  },
  {
   "cell_type": "code",
   "execution_count": 3,
   "id": "43a7833d-c040-45af-a2cc-33e3fdb98f3a",
   "metadata": {},
   "outputs": [
    {
     "name": "stdout",
     "output_type": "stream",
     "text": [
      "['https:', '', 'www.amazon.in', 'Lenovo-IdeaPad-Celeron-Platinum-81WH007KIN', 'dp', 'B09MM4FPMR', 'ref=sr_1_3?crid=30R34DWTFV1LU&keywords=laptops&qid=1640247787&sprefix=lap%2Caps%2C699&sr=8-3']\n"
     ]
    }
   ],
   "source": [
    "print(url_array)"
   ]
  },
  {
   "cell_type": "markdown",
   "id": "d9e2ca04",
   "metadata": {},
   "source": [
    "<h3>Creating the URL array from the parts</h3>"
   ]
  },
  {
   "cell_type": "code",
   "execution_count": 5,
   "id": "0ac15cab-01c7-482b-afe4-2422fe3d02a4",
   "metadata": {},
   "outputs": [],
   "source": [
    "url_1 = 'https://www.amazon.in/'+url_array[3]+'/product-reviews/'+url_array[5]+'/ref=cm_cr_dp_d_show_all_btm?ie=UTF8&reviewerType=all_reviews'"
   ]
  },
  {
   "cell_type": "markdown",
   "id": "d47f42e2",
   "metadata": {},
   "source": [
    "<h3>Printing the created URL</h3>"
   ]
  },
  {
   "cell_type": "code",
   "execution_count": 6,
   "id": "0f0da557-25c4-490c-bdb3-11f028c0b019",
   "metadata": {},
   "outputs": [
    {
     "name": "stdout",
     "output_type": "stream",
     "text": [
      "https://www.amazon.in/Lenovo-IdeaPad-Celeron-Platinum-81WH007KIN/product-reviews/B09MM4FPMR/ref=cm_cr_dp_d_show_all_btm?ie=UTF8&reviewerType=all_reviews\n"
     ]
    }
   ],
   "source": [
    "print(url_1)"
   ]
  },
  {
   "cell_type": "markdown",
   "id": "f2274702",
   "metadata": {},
   "source": [
    "<h3>Inserting the page number</h3>"
   ]
  },
  {
   "cell_type": "code",
   "execution_count": 7,
   "id": "7d999269-1162-4f97-80e2-b9d6432d3bf6",
   "metadata": {},
   "outputs": [],
   "source": [
    "x=2"
   ]
  },
  {
   "cell_type": "markdown",
   "id": "2ac055fe",
   "metadata": {},
   "source": [
    "<h3>Created URL</h3>"
   ]
  },
  {
   "cell_type": "code",
   "execution_count": 9,
   "id": "10f6d34f-87d8-4adf-a32a-c90f87d551c8",
   "metadata": {},
   "outputs": [],
   "source": [
    "url_2 = 'https://www.amazon.in/'+url_array[3]+'/product-reviews/'+url_array[5]+'/ref=cm_cr_arp_d_paging_btm_next_'+str(x)+'?ie=UTF8&reviewerType=all_reviews&pageNumber='+str(x)"
   ]
  },
  {
   "cell_type": "code",
   "execution_count": 10,
   "id": "a85192f6-3006-4e32-b278-2c81f2cb8b88",
   "metadata": {},
   "outputs": [
    {
     "name": "stdout",
     "output_type": "stream",
     "text": [
      "https://www.amazon.in/Lenovo-IdeaPad-Celeron-Platinum-81WH007KIN/product-reviews/B09MM4FPMR/ref=cm_cr_arp_d_paging_btm_next_2?ie=UTF8&reviewerType=all_reviews&pageNumber=2\n"
     ]
    }
   ],
   "source": [
    "#pr\n",
    "print(url_2)"
   ]
  }
 ],
 "metadata": {
  "kernelspec": {
   "display_name": "Python 3 (ipykernel)",
   "language": "python",
   "name": "python3"
  },
  "language_info": {
   "codemirror_mode": {
    "name": "ipython",
    "version": 3
   },
   "file_extension": ".py",
   "mimetype": "text/x-python",
   "name": "python",
   "nbconvert_exporter": "python",
   "pygments_lexer": "ipython3",
   "version": "3.9.7"
  }
 },
 "nbformat": 4,
 "nbformat_minor": 5
}
